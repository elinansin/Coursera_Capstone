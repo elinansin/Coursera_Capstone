{
    "cells": [
        {
            "cell_type": "markdown",
            "metadata": {},
            "source": "# The Battle of Neighborhoods - Capstone Project"
        },
        {
            "cell_type": "markdown",
            "metadata": {},
            "source": "## Business problem"
        },
        {
            "cell_type": "markdown",
            "metadata": {},
            "source": "A clothing company focusing on fashion for young people are expanding and will open a store in Toronto. They are now looking for the right location. The company knows that shoppers prefer to have a lot of other stores nearby and access to services as caf\u00e9s and restaurants so they can take a break and get new energy. They want the location to meet the following criterias:\n1. The area should have an above average population of youths\n2. The household income in the area should be average or higher\n3. There should be a lot of other venues as stores, coffee shops and caf\u00e9s in the area"
        },
        {
            "cell_type": "markdown",
            "metadata": {},
            "source": "## Data"
        },
        {
            "cell_type": "markdown",
            "metadata": {},
            "source": "#### To solve this problem we need:\n1. Demographic data on neighborhoods in Toronto\n2. Information about venues in the neighborhoods"
        },
        {
            "cell_type": "markdown",
            "metadata": {},
            "source": "#### Cencus of Population\nI will use the City of Toronto Open Data Catalogue to access demographic data for the neighborhoods in Toronto. The data I will use is from 2016 years Cencus of Population.\n\nEvery 5 years the Cencus of Population is held across Canada and collects data about age and sex, families and households, language, immigration and internal migration, ethnocultural diversity, Aboriginal peoples, housing, education, income, and labour. City of Toronto Neighbourhood Profiles use this Census data to provide a portrait of the demographic, social and economic characteristics of the people and households in each City of Toronto neighbourhood. The profiles present selected highlights from the data, I will use the accompanying data files that provide the full data set assembled for each neighbourhood.\n\nIn these profiles, \"neighbourhood\" refers to the City of Toronto's 140 social planning neighbourhoods. These social planning neighbourhoods were developed by the City of Toronto to help government and community organizations with local planning by providing socio-economic data at a meaningful geographic area. The boundaries of these social planning neighbourhoods are consistent over time, allowing for comparison between Census years.\n\nEach data point in this file is presented for the City's 140 neighbourhoods, as well as for the City of Toronto as a whole. The data is sourced from a number of Census tables released by Statistics Canada. The general Census Profile is the main source table for this data, but other Census tables have also been used to provide additional information."
        },
        {
            "cell_type": "markdown",
            "metadata": {},
            "source": "#### Foursquare location data\nFoursquare is a technology company that built a massive dataset of location data. I will use the Foursquare API to access data on venues in the Neighborhoods in Toronto. Using the locations of the neighborhoods we can find out what venues that can be found nearby and what venue cathegories they belong to. We can also access ratings, menues etc but that kind of information will not be used for this project. "
        },
        {
            "cell_type": "code",
            "execution_count": null,
            "metadata": {},
            "outputs": [],
            "source": ""
        }
    ],
    "metadata": {
        "kernelspec": {
            "display_name": "Python 3.6",
            "language": "python",
            "name": "python3"
        },
        "language_info": {
            "codemirror_mode": {
                "name": "ipython",
                "version": 3
            },
            "file_extension": ".py",
            "mimetype": "text/x-python",
            "name": "python",
            "nbconvert_exporter": "python",
            "pygments_lexer": "ipython3",
            "version": "3.6.9"
        }
    },
    "nbformat": 4,
    "nbformat_minor": 1
}